{
 "cells": [
  {
   "cell_type": "code",
   "execution_count": 1,
   "id": "3d955a42",
   "metadata": {},
   "outputs": [
    {
     "name": "stdout",
     "output_type": "stream",
     "text": [
      "26 Is The Given Age of Hasnain you have provided us\n"
     ]
    }
   ],
   "source": [
    "# Exercise 1: Create a function in Python\n",
    "# Write a program to create a function that takes two arguments, name and age, and print their value.\n",
    "\n",
    "def Person(name,age):\n",
    "    print(f\"{age} Is The Given Age of {name} you have provided us\")\n",
    "    \n",
    "Person(\"Hasnain\",26)"
   ]
  },
  {
   "cell_type": "code",
   "execution_count": 5,
   "id": "2bd6c706",
   "metadata": {},
   "outputs": [
    {
     "name": "stdout",
     "output_type": "stream",
     "text": [
      "10\n",
      "20\n",
      "hasnain\n",
      "True\n"
     ]
    }
   ],
   "source": [
    "# Exercise 2: Create a function with variable length of arguments\n",
    "# Write a program to create function func1() to accept a variable length of arguments and print their value.\n",
    "def func1(*args):\n",
    "    for x in args:\n",
    "        print(x)\n",
    "# Call\n",
    "func1(10,20,\"hasnain\",True)"
   ]
  },
  {
   "cell_type": "code",
   "execution_count": 17,
   "id": "f1b4954e",
   "metadata": {},
   "outputs": [
    {
     "name": "stdout",
     "output_type": "stream",
     "text": [
      "(15, 5)\n",
      "20 10\n"
     ]
    }
   ],
   "source": [
    "# Exercise 3: Return multiple values from a function\n",
    "# Write a program to create function calculation() such that it can accept \n",
    "# two variables and calculate addition and subtraction. Also, \n",
    "# it must return both addition and subtraction in a single return call.\n",
    "\n",
    "def calculation(x,y):\n",
    "    return (x+y,x-y)\n",
    "    add = x+y\n",
    "    sub = x-y\n",
    "    return (add,sub)\n",
    "\n",
    "# Call\n",
    "ans = calculation(10,5)\n",
    "print(ans)\n",
    "\n",
    "# OR\n",
    "\n",
    "def calculation(x,y):\n",
    "    return (x+y,x-y)\n",
    "add , sub = calculation(15,5)\n",
    "print(add,sub)\n"
   ]
  },
  {
   "cell_type": "code",
   "execution_count": 22,
   "id": "2f1bfbcf",
   "metadata": {},
   "outputs": [
    {
     "name": "stdout",
     "output_type": "stream",
     "text": [
      "Employee name is Hasnain and his salary is 12000\n"
     ]
    }
   ],
   "source": [
    "# Exercise 4: Create a function with a default argument\n",
    "# Write a program to create a function show_employee() using the following conditions.\n",
    "# It should accept the employee’s name and salary and display both.\n",
    "# If the salary is missing in the function call then assign default value 9000 to salary\n",
    "\n",
    "def show_employee(name, salary=9000):\n",
    "    print(f\"Employee name is {name} and his salary is {salary}\")\n",
    "\n",
    "# Call\n",
    "show_employee(\"Hasnain\", 12000)"
   ]
  },
  {
   "cell_type": "code",
   "execution_count": 25,
   "id": "c3a7ffa7",
   "metadata": {},
   "outputs": [
    {
     "name": "stdout",
     "output_type": "stream",
     "text": [
      "55\n"
     ]
    }
   ],
   "source": [
    "# Exercise 6: Create a recursive function\n",
    "# Write a program to create a recursive function to calculate the sum of numbers from 0 to 10.\n",
    "# A recursive function is a function that calls itself again and again.\n",
    "\n",
    "def func1(num):\n",
    "    if num:\n",
    "        return num + func1(num - 1) \n",
    "    else:\n",
    "        return 0\n",
    "    \n",
    "print(func1(10))"
   ]
  },
  {
   "cell_type": "code",
   "execution_count": 28,
   "id": "c1128dbe",
   "metadata": {},
   "outputs": [
    {
     "name": "stdout",
     "output_type": "stream",
     "text": [
      "26 Is The Given Age of Hasnain you have provided us\n"
     ]
    }
   ],
   "source": [
    "def Person(name,age):\n",
    "    print(f\"{age} Is The Given Age of {name} you have provided us\")\n",
    "\n",
    "display_student = Person\n",
    "display_student(\"Hasnain\", 26)\n"
   ]
  },
  {
   "cell_type": "code",
   "execution_count": 30,
   "id": "89cf8f4a",
   "metadata": {},
   "outputs": [
    {
     "name": "stdout",
     "output_type": "stream",
     "text": [
      "[4, 6, 8, 10, 12, 14, 16, 18, 20, 22, 24, 26, 28, 30]\n"
     ]
    }
   ],
   "source": [
    "# Exercise 8: Generate a Python list of all the even numbers between 4 to 30\n",
    "\n",
    "def generate():\n",
    "    lst = []\n",
    "    for x in range(4,31):\n",
    "        if x % 2 == 0:\n",
    "            lst.append(x)\n",
    "    print(lst)\n",
    "    \n",
    "generate()"
   ]
  }
 ],
 "metadata": {
  "kernelspec": {
   "display_name": "Python 3 (ipykernel)",
   "language": "python",
   "name": "python3"
  },
  "language_info": {
   "codemirror_mode": {
    "name": "ipython",
    "version": 3
   },
   "file_extension": ".py",
   "mimetype": "text/x-python",
   "name": "python",
   "nbconvert_exporter": "python",
   "pygments_lexer": "ipython3",
   "version": "3.11.2"
  }
 },
 "nbformat": 4,
 "nbformat_minor": 5
}
