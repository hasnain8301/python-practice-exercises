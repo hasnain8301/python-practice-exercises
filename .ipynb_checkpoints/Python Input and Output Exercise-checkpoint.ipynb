{
 "cells": [
  {
   "cell_type": "code",
   "execution_count": 6,
   "id": "d8093a0f",
   "metadata": {},
   "outputs": [
    {
     "name": "stdout",
     "output_type": "stream",
     "text": [
      "Please Enter The Number You Want To SUM : 10\n",
      "Please Enter The Number You Want To SUM : 10\n",
      "Please Enter The Number You Want To SUM : 0\n",
      "The SUM is : 20\n"
     ]
    }
   ],
   "source": [
    "# Exercise 1: Accept numbers from a user and SUM them all\n",
    "lst = []\n",
    "while True:\n",
    "    num = int(input(\"Please Enter The Number You Want To SUM : \"))\n",
    "    lst.append(num)\n",
    "    if num == 0:\n",
    "        break\n",
    "print(f\"The SUM is : {sum(lst)}\")"
   ]
  },
  {
   "cell_type": "code",
   "execution_count": 8,
   "id": "d3072775",
   "metadata": {},
   "outputs": [
    {
     "name": "stdout",
     "output_type": "stream",
     "text": [
      "My**name**is**Hasnain\n"
     ]
    }
   ],
   "source": [
    "# Exercise 2: Display three string “Name”, “Is”, “Hasnain” as “Name**Is**James”\n",
    "name = \"My name is Hasnain\"\n",
    "print(name.replace(' ', \"**\"))"
   ]
  },
  {
   "cell_type": "code",
   "execution_count": 9,
   "id": "bed1d2af",
   "metadata": {},
   "outputs": [
    {
     "name": "stdout",
     "output_type": "stream",
     "text": [
      "0o10\n"
     ]
    }
   ],
   "source": [
    "# Convert Decimal number to octal using print() output formatting\n",
    "num = 8\n",
    "print(oct(num))"
   ]
  },
  {
   "cell_type": "code",
   "execution_count": 10,
   "id": "f452e99a",
   "metadata": {},
   "outputs": [
    {
     "name": "stdout",
     "output_type": "stream",
     "text": [
      "458.54\n"
     ]
    }
   ],
   "source": [
    "# Exercise 4: Display float number with 2 decimal places using print()\n",
    "num = 458.541315\n",
    "print(round(num, 2))"
   ]
  },
  {
   "cell_type": "code",
   "execution_count": 11,
   "id": "2f3420d7",
   "metadata": {},
   "outputs": [
    {
     "name": "stdout",
     "output_type": "stream",
     "text": [
      "Please Enter A Decimal Number : 1.2\n",
      "Please Enter A Decimal Number : 3.2\n",
      "Please Enter A Decimal Number : 2.5\n",
      "Please Enter A Decimal Number : 22.2\n",
      "Please Enter A Decimal Number : 28.9\n",
      "[1.2, 3.2, 2.5, 22.2, 28.9]\n"
     ]
    }
   ],
   "source": [
    "# Exercise 5: Accept a list of 5 float numbers as an input from the user\n",
    "lst = []\n",
    "for x in range(5):\n",
    "    num = float(input(\"Please Enter A Decimal Number : \"))\n",
    "    lst.append(num)\n",
    "print(lst)\n",
    "    "
   ]
  },
  {
   "cell_type": "code",
   "execution_count": null,
   "id": "990690cb",
   "metadata": {},
   "outputs": [],
   "source": []
  }
 ],
 "metadata": {
  "kernelspec": {
   "display_name": "Python 3 (ipykernel)",
   "language": "python",
   "name": "python3"
  },
  "language_info": {
   "codemirror_mode": {
    "name": "ipython",
    "version": 3
   },
   "file_extension": ".py",
   "mimetype": "text/x-python",
   "name": "python",
   "nbconvert_exporter": "python",
   "pygments_lexer": "ipython3",
   "version": "3.11.2"
  }
 },
 "nbformat": 4,
 "nbformat_minor": 5
}
