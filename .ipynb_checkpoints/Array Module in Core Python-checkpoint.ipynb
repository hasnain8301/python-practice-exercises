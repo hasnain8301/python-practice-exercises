{
 "cells": [
  {
   "cell_type": "code",
   "execution_count": 3,
   "id": "20c4fbca",
   "metadata": {},
   "outputs": [
    {
     "name": "stdout",
     "output_type": "stream",
     "text": [
      "<class 'array.array'>\n"
     ]
    }
   ],
   "source": [
    "# In core Python there is only concept of One Dimensional Array\n",
    "# If we want to work on Multi Dimensional Arrays We Have to work with Numpy Package\n",
    "\n",
    "\n",
    "# 1st we have to import array module form core python \n",
    "import array \n",
    "\n",
    "\n",
    "# array_name = array.array(\"Type Code\",[Elements])\n",
    "my_array = array.array(\"i\",[1,2,3,4,5,6])\n",
    "\n",
    "print(type(my_array))"
   ]
  },
  {
   "cell_type": "code",
   "execution_count": 4,
   "id": "f6646345",
   "metadata": {},
   "outputs": [
    {
     "name": "stdout",
     "output_type": "stream",
     "text": [
      "<class 'array.array'>\n"
     ]
    }
   ],
   "source": [
    "from array import *\n",
    "# create empty Array\n",
    "array_name = array('i',[])\n",
    "print(type(array_name))"
   ]
  },
  {
   "cell_type": "code",
   "execution_count": 5,
   "id": "4c44c18d",
   "metadata": {},
   "outputs": [],
   "source": [
    "# TypeCode for integer => 'i'\n",
    "# TypeCode for float => 'f'"
   ]
  },
  {
   "cell_type": "code",
   "execution_count": 9,
   "id": "f9653bfb",
   "metadata": {},
   "outputs": [
    {
     "name": "stdout",
     "output_type": "stream",
     "text": [
      "<class 'array.array'>\n",
      "array('i', [1, 2, 3, 4, 5, 6])\n",
      "1\n",
      "3\n",
      "5\n"
     ]
    }
   ],
   "source": [
    "# Indexing in Arrays \n",
    "num_array = array('i',[1,2,3,4,5,6])\n",
    "print(type(num_array))\n",
    "print(num_array)\n",
    "print(num_array[0])\n",
    "print(num_array[2])\n",
    "print(num_array[4])"
   ]
  },
  {
   "cell_type": "code",
   "execution_count": 14,
   "id": "ddc34e23",
   "metadata": {},
   "outputs": [
    {
     "name": "stdout",
     "output_type": "stream",
     "text": [
      "1\n",
      "2\n",
      "3\n",
      "4\n",
      "5\n",
      "6\n",
      "******\n",
      "1\n",
      "2\n",
      "3\n",
      "4\n",
      "5\n",
      "6\n"
     ]
    }
   ],
   "source": [
    "# Iteration In Array Trough For Loop:\n",
    "num_array = array('i',[1,2,3,4,5,6])\n",
    "for x in num_array:\n",
    "    print(x)\n",
    "print(\"******\")\n",
    "for x in range(len(num_array)):\n",
    "    print(num_array[x])"
   ]
  },
  {
   "cell_type": "code",
   "execution_count": 16,
   "id": "286aa47f",
   "metadata": {},
   "outputs": [
    {
     "name": "stdout",
     "output_type": "stream",
     "text": [
      "1\n",
      "2\n",
      "3\n",
      "4\n",
      "5\n",
      "6\n"
     ]
    }
   ],
   "source": [
    "# Iteration In Array Trough While Loop:\n",
    "num_array = array('i',[1,2,3,4,5,6])\n",
    "n = len(num_array)\n",
    "i = 0\n",
    "while i < n:\n",
    "    print(num_array[i])\n",
    "    i += 1"
   ]
  },
  {
   "cell_type": "code",
   "execution_count": 17,
   "id": "3294cd13",
   "metadata": {},
   "outputs": [
    {
     "name": "stdout",
     "output_type": "stream",
     "text": [
      "Enter the number: 10\n",
      "Enter the number: 2\n",
      "Enter the number: 3\n",
      "Enter the number: 78\n",
      "Enter the number: 789\n",
      "array('i', [10, 2, 3, 78, 789])\n"
     ]
    }
   ],
   "source": [
    "# Create A Array With Taking 5 Values From User\n",
    "\n",
    "array1 = array(\"i\",[])\n",
    "i = 0\n",
    "while i<5:\n",
    "    num = int(input(\"Enter the number: \"))\n",
    "    array1.append(num)\n",
    "    i += 1\n",
    "print(array1)"
   ]
  },
  {
   "cell_type": "code",
   "execution_count": 19,
   "id": "fbabad20",
   "metadata": {},
   "outputs": [
    {
     "name": "stdout",
     "output_type": "stream",
     "text": [
      "Enter The Index Number where you want to add the element in array: 2\n",
      "Enter The Integer Number you want to add as element in array: 3\n",
      "array('i', [1, 2, 3, 4, 5])\n"
     ]
    }
   ],
   "source": [
    "# Write a program which ask a user 1st to enter the index positon in array to add element\n",
    "# After ask user to give that element\n",
    "\n",
    "array1 = array(\"i\",[1,2,4,5])\n",
    "index = int(input(\"Enter The Index Number where you want to add the element in array: \"))\n",
    "element = int(input(\"Enter The Integer Number you want to add as element in array: \"))\n",
    "array1.insert(index,element)\n",
    "print(array1)"
   ]
  },
  {
   "cell_type": "code",
   "execution_count": 22,
   "id": "24315473",
   "metadata": {},
   "outputs": [
    {
     "name": "stdout",
     "output_type": "stream",
     "text": [
      "Enter The Index Number where you want to delete the element in array: 1\n",
      "2\n",
      "array('i', [1, 4, 5])\n"
     ]
    }
   ],
   "source": [
    "# Write a program which ask a user to enter the index positon in array to delet element\n",
    "array1 = array(\"i\",[1,2,4,5])\n",
    "index = int(input(\"Enter The Index Number where you want to delete the element in array: \"))\n",
    "print(array1.pop(index)) # pop() also return the ermoved number if we pirnt the statement or we can use it\n",
    "print(array1)"
   ]
  },
  {
   "cell_type": "code",
   "execution_count": 25,
   "id": "292728ff",
   "metadata": {},
   "outputs": [
    {
     "name": "stdout",
     "output_type": "stream",
     "text": [
      "Enter The Index Number where you want to delete the element in array: 4\n",
      "array('i', [1, 2, 5])\n"
     ]
    }
   ],
   "source": [
    "# Write a program which ask a user to enter the Element want to remove in array\n",
    "array1 = array(\"i\",[1,2,4,5])\n",
    "element = int(input(\"Enter The Index Number where you want to delete the element in array: \"))\n",
    "array1.remove(element) # If it will not found the element, Value error occurs\n",
    "print(array1)"
   ]
  },
  {
   "cell_type": "code",
   "execution_count": 27,
   "id": "61c88a5f",
   "metadata": {},
   "outputs": [
    {
     "name": "stdout",
     "output_type": "stream",
     "text": [
      "Enter The Index Element you want to you want to know the index of in array: 5\n",
      "3\n"
     ]
    }
   ],
   "source": [
    "# Write a program which ask a user to enter the Element want to Know The Index Position of that element in array\n",
    "array1 = array(\"i\",[1,2,4,5])\n",
    "element = int(input(\"Enter The Index Element you want to you want to know the index of in array: \"))\n",
    "print(array1.index(element))\n"
   ]
  },
  {
   "cell_type": "code",
   "execution_count": 28,
   "id": "4120545a",
   "metadata": {},
   "outputs": [
    {
     "name": "stdout",
     "output_type": "stream",
     "text": [
      "Array Before Reversed : array('i', [1, 2, 4, 5])\n",
      "Array After Reversed : array('i', [5, 4, 2, 1])\n"
     ]
    }
   ],
   "source": [
    "# Write a program to reverse all the elements in your Array \n",
    "array1 = array(\"i\",[1,2,4,5])\n",
    "print(\"Array Before Reversed :\",array1)\n",
    "array1.reverse()\n",
    "print(\"Array After Reversed :\",array1)"
   ]
  },
  {
   "cell_type": "code",
   "execution_count": 32,
   "id": "cecbc5f2",
   "metadata": {},
   "outputs": [
    {
     "name": "stdout",
     "output_type": "stream",
     "text": [
      "Array Before Extend : array('i', [1, 2, 3, 4])\n",
      "Array After Extend : array('i', [1, 2, 3, 4, 5, 6, 7, 8])\n",
      "Array Before Extend with list : array('i', [1, 2, 3, 4, 5, 6, 7, 8])\n",
      "Array After Extend with list : array('i', [1, 2, 3, 4, 5, 6, 7, 8, 9, 10, 11, 12])\n"
     ]
    }
   ],
   "source": [
    "# Write a program to extend array with other given array\n",
    "array1 = array(\"i\",[1,2,3,4])\n",
    "array2 = array(\"i\",[5,6,7,8])\n",
    "print(\"Array Before Extend :\",array1)\n",
    "array1.extend(array2)\n",
    "print(\"Array After Extend :\",array1)\n",
    "\n",
    "# Or\n",
    "\n",
    "lst = [9,10,11,12]\n",
    "print(\"Array Before Extend with list :\",array1)\n",
    "array1.extend(lst)\n",
    "print(\"Array After Extend with list :\",array1)\n",
    "\n",
    "# We can extend array with any iterable object  "
   ]
  },
  {
   "cell_type": "code",
   "execution_count": 36,
   "id": "1526f706",
   "metadata": {},
   "outputs": [
    {
     "name": "stdout",
     "output_type": "stream",
     "text": [
      "array('i', [2, 3, 4])\n",
      "array('i', [1, 3, 5])\n"
     ]
    }
   ],
   "source": [
    "# Sclicing In Arrays\n",
    "array1 = array('i', [1, 2, 3, 4, 5, 6, 7, 8, 9, 10, 11, 12])\n",
    "# Sclicing array1[ start : stop : strpsize ]\n",
    "\n",
    "new_array1 = array1[1:4]\n",
    "print(new_array1)\n",
    "\n",
    "new_array2 = array1[0:6:2]\n",
    "print(new_array2)"
   ]
  },
  {
   "cell_type": "code",
   "execution_count": null,
   "id": "b87340d3",
   "metadata": {},
   "outputs": [],
   "source": []
  }
 ],
 "metadata": {
  "kernelspec": {
   "display_name": "Python 3 (ipykernel)",
   "language": "python",
   "name": "python3"
  },
  "language_info": {
   "codemirror_mode": {
    "name": "ipython",
    "version": 3
   },
   "file_extension": ".py",
   "mimetype": "text/x-python",
   "name": "python",
   "nbconvert_exporter": "python",
   "pygments_lexer": "ipython3",
   "version": "3.11.2"
  }
 },
 "nbformat": 4,
 "nbformat_minor": 5
}
