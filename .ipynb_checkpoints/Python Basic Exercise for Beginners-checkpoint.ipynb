{
 "cells": [
  {
   "cell_type": "code",
   "execution_count": 2,
   "id": "a20a1e94",
   "metadata": {},
   "outputs": [
    {
     "name": "stdout",
     "output_type": "stream",
     "text": [
      "Multiplication: 200\n",
      "Sum: 30\n"
     ]
    }
   ],
   "source": [
    "# Exercise 1: Calculate the multiplication and sum of two numbers\n",
    "number1 = 20\n",
    "number2 = 10\n",
    "\n",
    "#multiplication\n",
    "mult = number1 * number2\n",
    "print(f\"Multiplication: {mult}\")\n",
    "\n",
    "#Ssum\n",
    "add = number1 + number2\n",
    "print(f\"Sum: {add}\")"
   ]
  },
  {
   "cell_type": "code",
   "execution_count": 9,
   "id": "31b1a879",
   "metadata": {},
   "outputs": [
    {
     "name": "stdout",
     "output_type": "stream",
     "text": [
      "Current Number 1 Previous Number  0  Sum:  1\n",
      "Current Number 2 Previous Number  1  Sum:  3\n",
      "Current Number 3 Previous Number  2  Sum:  5\n",
      "Current Number 4 Previous Number  3  Sum:  7\n",
      "Current Number 5 Previous Number  4  Sum:  9\n",
      "Current Number 6 Previous Number  5  Sum:  11\n",
      "Current Number 7 Previous Number  6  Sum:  13\n",
      "Current Number 8 Previous Number  7  Sum:  15\n",
      "Current Number 9 Previous Number  8  Sum:  17\n"
     ]
    }
   ],
   "source": [
    "# Exercise 2: Print the sum of the current number and the previous number\n",
    "pre = 0\n",
    "for x in range(1,10):\n",
    "    print(f\"Current Number {x} Previous Number  {pre}  Sum:  {x+pre}\")\n",
    "    pre += 1 "
   ]
  },
  {
   "cell_type": "code",
   "execution_count": 19,
   "id": "37f06ecb",
   "metadata": {},
   "outputs": [
    {
     "name": "stdout",
     "output_type": "stream",
     "text": [
      "p\n",
      "n\n",
      "t\n",
      "v\n"
     ]
    }
   ],
   "source": [
    "# Exercise 3: Print characters from a string that are present at an even index number\n",
    "\n",
    "string = \"pynative\"\n",
    "for x in range(len(string)):\n",
    "    if x % 2 == 0:\n",
    "        print(string[x])\n"
   ]
  },
  {
   "cell_type": "code",
   "execution_count": 6,
   "id": "91261c24",
   "metadata": {},
   "outputs": [
    {
     "name": "stdout",
     "output_type": "stream",
     "text": [
      "ainNafees\n"
     ]
    }
   ],
   "source": [
    "# Exercise 4: Remove first n characters from a string\n",
    "\n",
    "def remove_chars(string,num):\n",
    "    if num > len(string):\n",
    "        print(\"Number is greater then string\")\n",
    "    new_string = string[num:]\n",
    "    print(new_string)\n",
    "\n",
    "remove_chars(\"HasnainNafees\",4)"
   ]
  },
  {
   "cell_type": "code",
   "execution_count": 9,
   "id": "617006da",
   "metadata": {},
   "outputs": [
    {
     "name": "stdout",
     "output_type": "stream",
     "text": [
      "result is True\n",
      "result is False\n"
     ]
    }
   ],
   "source": [
    "# Exercise 5: Check if the first and last number of a list is the same\n",
    "\n",
    "numbers_x = [10, 20, 30, 40, 10]\n",
    "numbers_y = [75, 65, 35, 75, 30]\n",
    "\n",
    "def Check_numbers(lst):\n",
    "    if lst[0] == lst[-1]:\n",
    "        print(\"result is True\")\n",
    "    else:\n",
    "        print(\"result is False\")\n",
    "\n",
    "Check_numbers(numbers_x)\n",
    "Check_numbers(numbers_y)"
   ]
  },
  {
   "cell_type": "code",
   "execution_count": 10,
   "id": "8d583c99",
   "metadata": {},
   "outputs": [
    {
     "name": "stdout",
     "output_type": "stream",
     "text": [
      "10\n",
      "20\n",
      "55\n"
     ]
    }
   ],
   "source": [
    "# Exercise 6: Display numbers divisible by 5 from a list\n",
    "\n",
    "lst = [10, 20, 33, 46, 55]\n",
    "for x in lst:\n",
    "    if x % 5 == 0:\n",
    "        print(x)"
   ]
  },
  {
   "cell_type": "code",
   "execution_count": 11,
   "id": "95a50d1f",
   "metadata": {},
   "outputs": [
    {
     "name": "stdout",
     "output_type": "stream",
     "text": [
      "Emma appairs 2 Times in string\n"
     ]
    }
   ],
   "source": [
    "# Exercise 7: Return the count of a given substring from a string\n",
    "count = 0\n",
    "str_x = \"Emma is good developer. Emma is a writer\"\n",
    "lst_x = str_x.split()\n",
    "for x in lst_x:\n",
    "    if x == \"Emma\":\n",
    "        count += 1\n",
    "print(f\"Emma appairs {count} Times in string\")"
   ]
  },
  {
   "cell_type": "code",
   "execution_count": 29,
   "id": "28b49590",
   "metadata": {},
   "outputs": [
    {
     "name": "stdout",
     "output_type": "stream",
     "text": [
      "\n",
      "1 \n",
      "2 2 \n",
      "3 3 3 \n",
      "4 4 4 4 \n",
      "5 5 5 5 5 \n"
     ]
    }
   ],
   "source": [
    "# Exercise 8: Print the following pattern\n",
    "for x in range(6):\n",
    "    for y in range(x):\n",
    "        print(x,end=' ')\n",
    "    print()"
   ]
  },
  {
   "cell_type": "code",
   "execution_count": 42,
   "id": "67b800a3",
   "metadata": {},
   "outputs": [
    {
     "name": "stdout",
     "output_type": "stream",
     "text": [
      "False\n"
     ]
    }
   ],
   "source": [
    "# Exercise 9: Check Palindrome Number\n",
    "original_num = number = 1222334\n",
    "\n",
    "reverse_num = 0\n",
    "while number > 0:\n",
    "    reminder = number % 10\n",
    "    reverse_num = (reverse_num * 10) + reminder\n",
    "    number = number // 10\n",
    "    \n",
    "if original_num == reverse_num:\n",
    "    print(\"true\")\n",
    "else:\n",
    "    print(\"False\")"
   ]
  },
  {
   "cell_type": "code",
   "execution_count": 43,
   "id": "7af885f1",
   "metadata": {},
   "outputs": [
    {
     "name": "stdout",
     "output_type": "stream",
     "text": [
      "[25, 35, 40, 60, 90]\n"
     ]
    }
   ],
   "source": [
    "# Exercise 10: Create a new list from a two list using the following condition\n",
    "# Given a two list of numbers, write a program to create a new list such that:\n",
    "# the new list should contain odd numbers from the first list and even numbers from the second list.\n",
    "\n",
    "list1 = [10, 20, 25, 30, 35]\n",
    "list2 = [40, 45, 60, 75, 90]\n",
    "\n",
    "new_list = []\n",
    "\n",
    "for x in list1:\n",
    "    if x % 2 == 1:\n",
    "        new_list.append(x)\n",
    "for x in list2:\n",
    "    if x % 2 == 0:\n",
    "        new_list.append(x)\n",
    "print(new_list)"
   ]
  },
  {
   "cell_type": "code",
   "execution_count": 46,
   "id": "546374a2",
   "metadata": {},
   "outputs": [
    {
     "name": "stdout",
     "output_type": "stream",
     "text": [
      "6 3 5 7 "
     ]
    }
   ],
   "source": [
    "# Exercise 11: Write a Program to extract each digit from an integer in the reverse order.\n",
    "\n",
    "num = 7536\n",
    "while num > 0:\n",
    "    num_x = num % 10\n",
    "    print(num_x, end=' ')\n",
    "    num = num // 10"
   ]
  }
 ],
 "metadata": {
  "kernelspec": {
   "display_name": "Python 3 (ipykernel)",
   "language": "python",
   "name": "python3"
  },
  "language_info": {
   "codemirror_mode": {
    "name": "ipython",
    "version": 3
   },
   "file_extension": ".py",
   "mimetype": "text/x-python",
   "name": "python",
   "nbconvert_exporter": "python",
   "pygments_lexer": "ipython3",
   "version": "3.11.2"
  }
 },
 "nbformat": 4,
 "nbformat_minor": 5
}
