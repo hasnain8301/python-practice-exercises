{
 "cells": [
  {
   "cell_type": "code",
   "execution_count": 1,
   "id": "acb1abfb",
   "metadata": {},
   "outputs": [
    {
     "name": "stdout",
     "output_type": "stream",
     "text": [
      "1\n",
      "2\n",
      "3\n",
      "4\n",
      "5\n",
      "6\n",
      "7\n",
      "8\n",
      "9\n",
      "10\n"
     ]
    }
   ],
   "source": [
    "# Exercise 1: Print First 10 natural numbers using while loop\n",
    "i = 0\n",
    "while i < 10:\n",
    "    i += 1\n",
    "    print(i)"
   ]
  },
  {
   "cell_type": "code",
   "execution_count": 11,
   "id": "bb1c9408",
   "metadata": {},
   "outputs": [
    {
     "name": "stdout",
     "output_type": "stream",
     "text": [
      "1 \n",
      "1 2 \n",
      "1 2 3 \n",
      "1 2 3 4 \n",
      "1 2 3 4 5 \n"
     ]
    }
   ],
   "source": [
    "# Exercise 2: Print the following pattern\n",
    "\n",
    "for x in range(1,6):\n",
    "    for y in range(1,x+1):\n",
    "        print(y, end=\" \")\n",
    "    print('')"
   ]
  },
  {
   "cell_type": "code",
   "execution_count": 15,
   "id": "44ac63ec",
   "metadata": {},
   "outputs": [
    {
     "name": "stdout",
     "output_type": "stream",
     "text": [
      "Please Enter The Number :10\n",
      "Sum Is: 55\n"
     ]
    }
   ],
   "source": [
    "# Exercise 3: Calculate the sum of all numbers from 1 to a given number\n",
    "# Write a program to accept a number from a user and calculate \n",
    "# the sum of all numbers from 1 to a given number\n",
    "# For example, if the user entered 10 the output should be 55 (1+2+3+4+5+6+7+8+9+10)\n",
    "\n",
    "num = int(input(\"Please Enter The Number :\"))\n",
    "cal_sum = 0 \n",
    "for x in range(1,num+1):\n",
    "    cal_sum += x\n",
    "print(f\"Sum Is:\",cal_sum)\n",
    "    "
   ]
  },
  {
   "cell_type": "code",
   "execution_count": 21,
   "id": "897ec30c",
   "metadata": {},
   "outputs": [
    {
     "name": "stdout",
     "output_type": "stream",
     "text": [
      "Enter The Number You Want To Generate the table of: 7\n",
      "7 x 1 = 7\n",
      "7 x 2 = 14\n",
      "7 x 3 = 21\n",
      "7 x 4 = 28\n",
      "7 x 5 = 35\n",
      "7 x 6 = 42\n",
      "7 x 7 = 49\n",
      "7 x 8 = 56\n",
      "7 x 9 = 63\n",
      "7 x 10 = 70\n"
     ]
    }
   ],
   "source": [
    "# Exercise 4: Write a program to print multiplication table of a given number\n",
    "\n",
    "def Table():\n",
    "    num = int(input(\"Enter The Number You Want To Generate the table of: \"))\n",
    "    for x in range(1,11):\n",
    "        print(f\"{num} x {x} = {num*x}\")\n",
    "Table()\n",
    "    "
   ]
  },
  {
   "cell_type": "code",
   "execution_count": 29,
   "id": "5fbf4137",
   "metadata": {},
   "outputs": [
    {
     "name": "stdout",
     "output_type": "stream",
     "text": [
      "75\n",
      "150\n",
      "145\n"
     ]
    }
   ],
   "source": [
    "# Exercise 5: Display numbers from a list using loop\n",
    "# Write a program to display only those numbers from a list that satisfy the following conditions\n",
    "# The number must be divisible by five\n",
    "# If the number is greater than 150, then skip it and move to the next number\n",
    "# If the number is greater than 500, then stop the loop\n",
    "\n",
    "numbers = [12, 75, 150, 180, 145, 525, 50]\n",
    "\n",
    "for x in numbers:\n",
    "    if x > 500:\n",
    "        break\n",
    "    elif x > 150:\n",
    "        continue\n",
    "    elif x % 5 == 0:\n",
    "        print(x)\n",
    "        "
   ]
  },
  {
   "cell_type": "code",
   "execution_count": 32,
   "id": "66586ec9",
   "metadata": {},
   "outputs": [
    {
     "name": "stdout",
     "output_type": "stream",
     "text": [
      "Enter The Number: 1010122\n",
      "7\n"
     ]
    }
   ],
   "source": [
    "# Exercise 6: Count the total number of digits in a number\n",
    "num = int(input(\"Enter The Number: \"))\n",
    "cal = 0\n",
    "for x in str(num):\n",
    "    cal += 1\n",
    "print(cal)\n",
    "    "
   ]
  },
  {
   "cell_type": "code",
   "execution_count": 43,
   "id": "b422439d",
   "metadata": {},
   "outputs": [
    {
     "name": "stdout",
     "output_type": "stream",
     "text": [
      "5 4 3 2 1 \n",
      "4 3 2 1 \n",
      "3 2 1 \n",
      "2 1 \n",
      "1 \n"
     ]
    }
   ],
   "source": [
    "# Exercise 7: Print the following pattern\n",
    "for x in range(5,0,-1):\n",
    "    for y in range(x,0,-1):\n",
    "        print(y, end=\" \")\n",
    "    print()"
   ]
  },
  {
   "cell_type": "code",
   "execution_count": 64,
   "id": "7586fd76",
   "metadata": {},
   "outputs": [
    {
     "name": "stdout",
     "output_type": "stream",
     "text": [
      "50\n",
      "40\n",
      "30\n",
      "20\n",
      "10\n"
     ]
    }
   ],
   "source": [
    "# Exercise 8: Print list in reverse order using a loop\n",
    "list1 = [10, 20, 30, 40, 50]\n",
    "for x in range(len(list1)-1,-1,-1):\n",
    "        print(list1[x])\n"
   ]
  },
  {
   "cell_type": "code",
   "execution_count": 66,
   "id": "28d4bdd4",
   "metadata": {},
   "outputs": [
    {
     "name": "stdout",
     "output_type": "stream",
     "text": [
      "-10\n",
      "-9\n",
      "-8\n",
      "-7\n",
      "-6\n",
      "-5\n",
      "-4\n",
      "-3\n",
      "-2\n",
      "-1\n"
     ]
    }
   ],
   "source": [
    "for x in range(-10,0):\n",
    "    print(x)"
   ]
  },
  {
   "cell_type": "code",
   "execution_count": 69,
   "id": "af098496",
   "metadata": {},
   "outputs": [
    {
     "name": "stdout",
     "output_type": "stream",
     "text": [
      "0\n",
      "1\n",
      "2\n",
      "3\n",
      "4\n",
      "DONE!\n"
     ]
    }
   ],
   "source": [
    "# Exercise 10: Use else block to display a message “Done” after successful execution of for loop\n",
    "\n",
    "for x in range(5):\n",
    "    print(x)\n",
    "else:\n",
    "    print(\"DONE!\")"
   ]
  },
  {
   "cell_type": "code",
   "execution_count": 5,
   "id": "580c1b40",
   "metadata": {},
   "outputs": [
    {
     "name": "stdout",
     "output_type": "stream",
     "text": [
      "Please Enter The a start and end range :100 200\n",
      "101  is prime\n",
      "103  is prime\n",
      "107  is prime\n",
      "109  is prime\n",
      "113  is prime\n",
      "127  is prime\n",
      "131  is prime\n",
      "137  is prime\n",
      "139  is prime\n",
      "149  is prime\n",
      "151  is prime\n",
      "157  is prime\n",
      "163  is prime\n",
      "167  is prime\n",
      "173  is prime\n",
      "179  is prime\n",
      "181  is prime\n",
      "191  is prime\n",
      "193  is prime\n",
      "197  is prime\n",
      "199  is prime\n"
     ]
    }
   ],
   "source": [
    "# Exercise 11: Write a program to display all prime numbers within a range\n",
    "\n",
    "start, end = input(\"Please Enter The a start and end range :\").split()\n",
    "start = int(start)\n",
    "end = int(end)\n",
    "\n",
    "for num in range(start,end+1):\n",
    "    if num > 1:\n",
    "        for x in range(2,num):\n",
    "            if num % x == 0:\n",
    "                break\n",
    "        else:\n",
    "            print(num, \" is prime\")"
   ]
  },
  {
   "cell_type": "code",
   "execution_count": 27,
   "id": "ddff6242",
   "metadata": {},
   "outputs": [
    {
     "name": "stdout",
     "output_type": "stream",
     "text": [
      "1\n",
      "2\n",
      "3\n",
      "5\n",
      "8\n",
      "13\n",
      "21\n",
      "34\n",
      "55\n",
      "89\n"
     ]
    }
   ],
   "source": [
    "#Exercise 12: Display Fibonacci series up to 10 terms\n",
    "pre1 = 0\n",
    "pre2 = 1\n",
    "\n",
    "for x in range(10):\n",
    "    new = pre1 + pre2\n",
    "    pre1 = pre2\n",
    "    pre2 = new\n",
    "    print(new)\n",
    "    \n"
   ]
  },
  {
   "cell_type": "code",
   "execution_count": 8,
   "id": "a86d340f",
   "metadata": {},
   "outputs": [
    {
     "name": "stdout",
     "output_type": "stream",
     "text": [
      "120\n"
     ]
    }
   ],
   "source": [
    "# Exercise 13: Find the factorial of a given number\n",
    "num = 5\n",
    "factorial = 1\n",
    "for x in range(num,1,-1):\n",
    "    factorial *= x\n",
    "print(factorial)\n",
    "    "
   ]
  },
  {
   "cell_type": "code",
   "execution_count": 24,
   "id": "d5420055",
   "metadata": {},
   "outputs": [
    {
     "name": "stdout",
     "output_type": "stream",
     "text": [
      "76542\n",
      "24567\n"
     ]
    }
   ],
   "source": [
    "# Exercise 14: Reverse a given integer number\n",
    "num = 76542\n",
    "print(num)\n",
    "str_num = str(num)\n",
    "reve_str = ''\n",
    "for x in range(len(str_num)-1,-1,-1):\n",
    "    reve_str += str_num[x]\n",
    "print(int(reve_str))\n",
    "\n"
   ]
  },
  {
   "cell_type": "code",
   "execution_count": 30,
   "id": "fd1275a6",
   "metadata": {},
   "outputs": [
    {
     "name": "stdout",
     "output_type": "stream",
     "text": [
      "20 40 60 80 100 "
     ]
    }
   ],
   "source": [
    "# Exercise 15: Use a loop to display elements from a given list present at odd index positions\n",
    "my_list = [10, 20, 30, 40, 50, 60, 70, 80, 90, 100]\n",
    "\n",
    "for x,y in enumerate(my_list):\n",
    "    if x % 2 != 0:\n",
    "        print(y, end=\" \")"
   ]
  },
  {
   "cell_type": "code",
   "execution_count": 32,
   "id": "9ed2ff34",
   "metadata": {},
   "outputs": [
    {
     "name": "stdout",
     "output_type": "stream",
     "text": [
      "Current Number is : 1  and the cube is 1\n",
      "Current Number is : 2  and the cube is 8\n",
      "Current Number is : 3  and the cube is 27\n",
      "Current Number is : 4  and the cube is 64\n",
      "Current Number is : 5  and the cube is 125\n",
      "Current Number is : 6  and the cube is 216\n"
     ]
    }
   ],
   "source": [
    "# Exercise 16: Calculate the cube of all numbers from 1 to a given number\n",
    "num = 6\n",
    "for x in range(1,num+1):\n",
    "    print(f\"Current Number is : {x}  and the cube is {x**3}\")"
   ]
  },
  {
   "cell_type": "code",
   "execution_count": 39,
   "id": "e2f99c1b",
   "metadata": {},
   "outputs": [
    {
     "name": "stdout",
     "output_type": "stream",
     "text": [
      "24690\n"
     ]
    }
   ],
   "source": [
    "# Exercise 17: Find the sum of the series upto n terms\n",
    "num = 5\n",
    "cal = 0\n",
    "for x in range(1,num+1):\n",
    "    cal += int(\"2\"*x)\n",
    "print(cal)\n",
    "    "
   ]
  },
  {
   "cell_type": "code",
   "execution_count": 59,
   "id": "224a1fa7",
   "metadata": {},
   "outputs": [
    {
     "name": "stdout",
     "output_type": "stream",
     "text": [
      "\n",
      "* \n",
      "* * \n",
      "* * * \n",
      "* * * * \n",
      "* * * * * \n",
      "* * * * \n",
      "* * * \n",
      "* * \n",
      "* \n"
     ]
    }
   ],
   "source": [
    "# Exercise 18: Print the following pattern\n",
    "for x in range(5):\n",
    "    for y in range(x):\n",
    "        print(\"*\",end=\" \")\n",
    "    print()\n",
    "for x in range(5,0,-1):\n",
    "    for y in range(x):\n",
    "        print(\"*\",end=\" \")\n",
    "    print()\n",
    "    \n",
    "    "
   ]
  },
  {
   "cell_type": "code",
   "execution_count": null,
   "id": "067aeebf",
   "metadata": {},
   "outputs": [],
   "source": []
  }
 ],
 "metadata": {
  "kernelspec": {
   "display_name": "Python 3 (ipykernel)",
   "language": "python",
   "name": "python3"
  },
  "language_info": {
   "codemirror_mode": {
    "name": "ipython",
    "version": 3
   },
   "file_extension": ".py",
   "mimetype": "text/x-python",
   "name": "python",
   "nbconvert_exporter": "python",
   "pygments_lexer": "ipython3",
   "version": "3.11.2"
  }
 },
 "nbformat": 4,
 "nbformat_minor": 5
}
