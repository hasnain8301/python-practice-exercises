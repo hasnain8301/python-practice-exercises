{
 "cells": [
  {
   "cell_type": "code",
   "execution_count": 6,
   "id": "d8093a0f",
   "metadata": {},
   "outputs": [
    {
     "name": "stdout",
     "output_type": "stream",
     "text": [
      "Please Enter The Number You Want To SUM : 10\n",
      "Please Enter The Number You Want To SUM : 10\n",
      "Please Enter The Number You Want To SUM : 0\n",
      "The SUM is : 20\n"
     ]
    }
   ],
   "source": [
    "# Exercise 1: Accept numbers from a user and SUM them all\n",
    "lst = []\n",
    "while True:\n",
    "    num = int(input(\"Please Enter The Number You Want To SUM : \"))\n",
    "    lst.append(num)\n",
    "    if num == 0:\n",
    "        break\n",
    "print(f\"The SUM is : {sum(lst)}\")"
   ]
  },
  {
   "cell_type": "code",
   "execution_count": 8,
   "id": "d3072775",
   "metadata": {},
   "outputs": [
    {
     "name": "stdout",
     "output_type": "stream",
     "text": [
      "My**name**is**Hasnain\n"
     ]
    }
   ],
   "source": [
    "# Exercise 2: Display three string “Name”, “Is”, “Hasnain” as “Name**Is**James”\n",
    "name = \"My name is Hasnain\"\n",
    "print(name.replace(' ', \"**\"))"
   ]
  },
  {
   "cell_type": "code",
   "execution_count": 9,
   "id": "bed1d2af",
   "metadata": {},
   "outputs": [
    {
     "name": "stdout",
     "output_type": "stream",
     "text": [
      "0o10\n"
     ]
    }
   ],
   "source": [
    "# Convert Decimal number to octal using print() output formatting\n",
    "num = 8\n",
    "print(oct(num))"
   ]
  },
  {
   "cell_type": "code",
   "execution_count": 10,
   "id": "f452e99a",
   "metadata": {},
   "outputs": [
    {
     "name": "stdout",
     "output_type": "stream",
     "text": [
      "458.54\n"
     ]
    }
   ],
   "source": [
    "# Exercise 4: Display float number with 2 decimal places using print()\n",
    "num = 458.541315\n",
    "print(round(num, 2))"
   ]
  },
  {
   "cell_type": "code",
   "execution_count": 11,
   "id": "2f3420d7",
   "metadata": {},
   "outputs": [
    {
     "name": "stdout",
     "output_type": "stream",
     "text": [
      "Please Enter A Decimal Number : 1.2\n",
      "Please Enter A Decimal Number : 3.2\n",
      "Please Enter A Decimal Number : 2.5\n",
      "Please Enter A Decimal Number : 22.2\n",
      "Please Enter A Decimal Number : 28.9\n",
      "[1.2, 3.2, 2.5, 22.2, 28.9]\n"
     ]
    }
   ],
   "source": [
    "# Exercise 5: Accept a list of 5 float numbers as an input from the user\n",
    "lst = []\n",
    "for x in range(5):\n",
    "    num = float(input(\"Please Enter A Decimal Number : \"))\n",
    "    lst.append(num)\n",
    "print(lst)\n",
    "    "
   ]
  },
  {
   "cell_type": "code",
   "execution_count": 23,
   "id": "990690cb",
   "metadata": {},
   "outputs": [],
   "source": [
    "# Exercise 6: Write all content of a given file into a new file by skipping line number 5\n",
    "# Read File\n",
    "with open('test.txt','r') as tf:\n",
    "    old = tf.readlines()\n",
    "    \n",
    "with open('new.txt','w') as nf:\n",
    "    for count, x in enumerate(old):\n",
    "        if count == 4:\n",
    "            continue\n",
    "        nf.write(x)"
   ]
  },
  {
   "cell_type": "code",
   "execution_count": 27,
   "id": "2591f3b7",
   "metadata": {},
   "outputs": [
    {
     "name": "stdout",
     "output_type": "stream",
     "text": [
      "Please Enter 3 Name Along With spaces: Hasnain Nafees Shahbaz\n",
      "Hasnain\n",
      "Nafees\n",
      "Shahbaz\n"
     ]
    }
   ],
   "source": [
    "# Exercise 7: Accept any three string from one input() call\n",
    "\n",
    "name1,name2,name3 = input(\"Please Enter 3 Name Along With spaces: \").split()\n",
    "print(name1)\n",
    "print(name2)\n",
    "print(name3)"
   ]
  },
  {
   "cell_type": "code",
   "execution_count": 34,
   "id": "f651bcbc",
   "metadata": {},
   "outputs": [
    {
     "name": "stdout",
     "output_type": "stream",
     "text": [
      "I have 1000 dollars so I can buy 3 football for 450 dollars.\n",
      "I have 1000 dollars so I can buy 3 football for 450 dollars.\n"
     ]
    }
   ],
   "source": [
    "# Exercise 8: Format variables using a string.format() method.\n",
    "\n",
    "totalMoney = 1000\n",
    "quantity = 3\n",
    "price = 450\n",
    "\n",
    "statement = 'I have {0} dollars so I can buy {1} football for {2} dollars.'\n",
    "print(statement.format(totalMoney,quantity,price))\n",
    "\n",
    "\n",
    "# Alternative Way of string formating \n",
    "print(f'I have {totalMoney} dollars so I can buy {quantity} football for {price} dollars.')\n"
   ]
  },
  {
   "cell_type": "code",
   "execution_count": 35,
   "id": "96d8bbd4",
   "metadata": {},
   "outputs": [
    {
     "name": "stdout",
     "output_type": "stream",
     "text": [
      "line4\n",
      "\n"
     ]
    }
   ],
   "source": [
    "# Exercise 10: Read line number 4 from the following file\n",
    "with open('test.txt','r') as tf:\n",
    "    line = tf.readlines()[3]\n",
    "    print(line)\n",
    "    "
   ]
  },
  {
   "cell_type": "code",
   "execution_count": null,
   "id": "760b4653",
   "metadata": {},
   "outputs": [],
   "source": []
  }
 ],
 "metadata": {
  "kernelspec": {
   "display_name": "Python 3 (ipykernel)",
   "language": "python",
   "name": "python3"
  },
  "language_info": {
   "codemirror_mode": {
    "name": "ipython",
    "version": 3
   },
   "file_extension": ".py",
   "mimetype": "text/x-python",
   "name": "python",
   "nbconvert_exporter": "python",
   "pygments_lexer": "ipython3",
   "version": "3.11.2"
  }
 },
 "nbformat": 4,
 "nbformat_minor": 5
}
