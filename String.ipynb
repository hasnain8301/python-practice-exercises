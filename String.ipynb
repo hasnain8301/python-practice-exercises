{
 "cells": [
  {
   "cell_type": "code",
   "execution_count": 2,
   "id": "5bcc8898",
   "metadata": {},
   "outputs": [
    {
     "name": "stdout",
     "output_type": "stream",
     "text": [
      "Hasnain\n",
      "Hasnian\n",
      "Hi, My self Hasnian Nafees\n",
      "I live in Sargodha.\n"
     ]
    }
   ],
   "source": [
    "# Methods of createing a string\n",
    "\n",
    "# usning single quotes\n",
    "s1 = 'Hasnain'\n",
    "\n",
    "# usning double quotes\n",
    "s2 = \"Hasnian\"\n",
    "\n",
    "# usning tripple quotes\n",
    "s3 = \"\"\"Hi, My self Hasnian Nafees\n",
    "I live in Sargodha.\"\"\"\n",
    "\n",
    "print(s1)\n",
    "print(s2)\n",
    "print(s3)"
   ]
  },
  {
   "cell_type": "code",
   "execution_count": 3,
   "id": "e8465023",
   "metadata": {},
   "outputs": [
    {
     "name": "stdout",
     "output_type": "stream",
     "text": [
      "This is Hasnain's Car\n",
      "Hasnain Owns This \"Nissan GTR\"\n"
     ]
    }
   ],
   "source": [
    "# We Can Use double quotes inside single quotes and single quotes inside double \n",
    "\n",
    "s1 = \"This is Hasnain's Car\" # single quote use inside double quote\n",
    "s2 = 'Hasnain Owns This \"Nissan GTR\"' # Double quotes used inside single quotes\n",
    "\n",
    "print(s1)\n",
    "print(s2)"
   ]
  },
  {
   "cell_type": "code",
   "execution_count": 5,
   "id": "96861d04",
   "metadata": {},
   "outputs": [
    {
     "name": "stdout",
     "output_type": "stream",
     "text": [
      "Hello, \n",
      "My Name Is Hasnain\n"
     ]
    }
   ],
   "source": [
    "# Using Escape Characters inside string\n",
    "\n",
    "s1 = \"Hello, \\nMy Name Is Hasnain\" # \\n Used for new line \n",
    "\n",
    "print(s1)"
   ]
  },
  {
   "cell_type": "code",
   "execution_count": 6,
   "id": "1458dcf5",
   "metadata": {},
   "outputs": [
    {
     "name": "stdout",
     "output_type": "stream",
     "text": [
      "Hello, \\nMy Name Is Hasnain\n"
     ]
    }
   ],
   "source": [
    "# Raw String Is Use To Nullify The functionality of Escape Characters\n",
    "\n",
    "s1 = r\"Hello, \\nMy Name Is Hasnain\" # r\"\" Used for Nullify The functionality of \\n\n",
    "print(s1)"
   ]
  },
  {
   "cell_type": "code",
   "execution_count": 20,
   "id": "86c39e5e",
   "metadata": {},
   "outputs": [
    {
     "name": "stdout",
     "output_type": "stream",
     "text": [
      "Hello, \\ooofMy Name Is Hasnain\n"
     ]
    }
   ],
   "source": [
    "s1 = \"Hello, \\ooofMy Name Is Hasnain\"\n",
    "print(s1)"
   ]
  },
  {
   "cell_type": "code",
   "execution_count": 1,
   "id": "e8580adf",
   "metadata": {},
   "outputs": [
    {
     "name": "stdout",
     "output_type": "stream",
     "text": [
      "H\n",
      "a\n",
      "s\n",
      "n\n",
      "a\n",
      "i\n",
      "n\n"
     ]
    }
   ],
   "source": [
    "# Accessing String Using For Loop\n",
    "s1 = \"Hasnain\"\n",
    "for char in s1:\n",
    "    print(char)"
   ]
  },
  {
   "cell_type": "code",
   "execution_count": 7,
   "id": "9a1d530e",
   "metadata": {},
   "outputs": [
    {
     "name": "stdout",
     "output_type": "stream",
     "text": [
      "H\n",
      "a\n",
      "s\n",
      "n\n",
      "a\n",
      "i\n",
      "n\n"
     ]
    }
   ],
   "source": [
    "# Accessing String Using While Loop\n",
    "s1 = \"Hasnain\"\n",
    "len_s1 = len(s1)\n",
    "i = 0\n",
    "while i < len_s1:\n",
    "    print(s1[i])\n",
    "    i += 1\n"
   ]
  },
  {
   "cell_type": "code",
   "execution_count": 8,
   "id": "be6353fd",
   "metadata": {},
   "outputs": [
    {
     "ename": "TypeError",
     "evalue": "'str' object does not support item assignment",
     "output_type": "error",
     "traceback": [
      "\u001b[1;31m---------------------------------------------------------------------------\u001b[0m",
      "\u001b[1;31mTypeError\u001b[0m                                 Traceback (most recent call last)",
      "Cell \u001b[1;32mIn[8], line 3\u001b[0m\n\u001b[0;32m      1\u001b[0m \u001b[38;5;66;03m# String are mutable, We Can not change the values of any specific index\u001b[39;00m\n\u001b[0;32m      2\u001b[0m s1 \u001b[38;5;241m=\u001b[39m \u001b[38;5;124m\"\u001b[39m\u001b[38;5;124mHasnain\u001b[39m\u001b[38;5;124m\"\u001b[39m\n\u001b[1;32m----> 3\u001b[0m \u001b[43ms1\u001b[49m\u001b[43m[\u001b[49m\u001b[38;5;241;43m0\u001b[39;49m\u001b[43m]\u001b[49m \u001b[38;5;241m=\u001b[39m \u001b[38;5;124m\"\u001b[39m\u001b[38;5;124mh\u001b[39m\u001b[38;5;124m\"\u001b[39m\n",
      "\u001b[1;31mTypeError\u001b[0m: 'str' object does not support item assignment"
     ]
    }
   ],
   "source": [
    "# String are mutable, We Can not change the values of any specific index\n",
    "s1 = \"Hasnain\"\n",
    "s1[0] = \"h\" # This will give an error"
   ]
  },
  {
   "cell_type": "code",
   "execution_count": 12,
   "id": "59a70928",
   "metadata": {},
   "outputs": [
    {
     "name": "stdout",
     "output_type": "stream",
     "text": [
      "$$$$$$$\n"
     ]
    }
   ],
   "source": [
    "# Repetition Operator\n",
    "\n",
    "print(\"$\"*7)"
   ]
  },
  {
   "cell_type": "code",
   "execution_count": 13,
   "id": "9b5abc8b",
   "metadata": {},
   "outputs": [
    {
     "name": "stdout",
     "output_type": "stream",
     "text": [
      "HasnainNafees\n"
     ]
    }
   ],
   "source": [
    "# Concatenation Operators\n",
    "\n",
    "s1 = \"Hasnain\"\n",
    "s2 = \"Nafees\"\n",
    "print(s1+s2)"
   ]
  },
  {
   "cell_type": "code",
   "execution_count": 16,
   "id": "ca8a27c4",
   "metadata": {},
   "outputs": [
    {
     "name": "stdout",
     "output_type": "stream",
     "text": [
      "True\n"
     ]
    }
   ],
   "source": [
    "# Comparing String\n",
    "\n",
    "s1 = \"A\"\n",
    "s2 = \"B\"\n",
    "\n",
    "print(s1<s2)"
   ]
  },
  {
   "cell_type": "code",
   "execution_count": null,
   "id": "311411c6",
   "metadata": {},
   "outputs": [],
   "source": []
  }
 ],
 "metadata": {
  "kernelspec": {
   "display_name": "Python 3 (ipykernel)",
   "language": "python",
   "name": "python3"
  },
  "language_info": {
   "codemirror_mode": {
    "name": "ipython",
    "version": 3
   },
   "file_extension": ".py",
   "mimetype": "text/x-python",
   "name": "python",
   "nbconvert_exporter": "python",
   "pygments_lexer": "ipython3",
   "version": "3.11.2"
  }
 },
 "nbformat": 4,
 "nbformat_minor": 5
}
